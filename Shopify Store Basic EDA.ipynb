{
 "cells": [
  {
   "cell_type": "markdown",
   "metadata": {},
   "source": [
    "# Shopify App Store Basic EDA"
   ]
  },
  {
   "cell_type": "markdown",
   "metadata": {},
   "source": [
    "The dataset includes information about Shopify app store apps (created by developers) and reviews (published by shops)."
   ]
  },
  {
   "cell_type": "markdown",
   "metadata": {},
   "source": [
    " - apps.csv28 31 x 12\n",
    " - apps_categories.csv 4155 x 2\n",
    " - categories.csv 12 x 2\n",
    " - key_benefits.csv 7446 x 3\n",
    " - reviews.csv 292k x 8"
   ]
  },
  {
   "cell_type": "markdown",
   "metadata": {},
   "source": [
    "## Imports"
   ]
  },
  {
   "cell_type": "code",
   "execution_count": 1,
   "metadata": {},
   "outputs": [],
   "source": [
    "# numpy and pandas for data manipulation\n",
    "import numpy as np\n",
    "import pandas as pd \n",
    "\n",
    "# sklearn preprocessing for dealing with categorical variables\n",
    "from sklearn.preprocessing import LabelEncoder\n",
    "\n",
    "# File system manangement\n",
    "import os\n",
    "\n",
    "# Suppress warnings \n",
    "import warnings\n",
    "warnings.filterwarnings('ignore')\n",
    "\n",
    "# matplotlib and seaborn for plotting\n",
    "import matplotlib.pyplot as plt\n",
    "import seaborn as sns"
   ]
  },
  {
   "cell_type": "markdown",
   "metadata": {},
   "source": [
    "## Load data"
   ]
  },
  {
   "cell_type": "code",
   "execution_count": 2,
   "metadata": {},
   "outputs": [],
   "source": [
    "apps = pd.read_csv('/Users/alex/Documents/shopify-app-store/apps.csv', usecols = ['id', 'title', 'tagline', 'developer', 'rating', 'reviews_count', 'pricing_hint'])"
   ]
  },
  {
   "cell_type": "code",
   "execution_count": 3,
   "metadata": {},
   "outputs": [
    {
     "data": {
      "text/html": [
       "<div>\n",
       "<style scoped>\n",
       "    .dataframe tbody tr th:only-of-type {\n",
       "        vertical-align: middle;\n",
       "    }\n",
       "\n",
       "    .dataframe tbody tr th {\n",
       "        vertical-align: top;\n",
       "    }\n",
       "\n",
       "    .dataframe thead th {\n",
       "        text-align: right;\n",
       "    }\n",
       "</style>\n",
       "<table border=\"1\" class=\"dataframe\">\n",
       "  <thead>\n",
       "    <tr style=\"text-align: right;\">\n",
       "      <th></th>\n",
       "      <th>id</th>\n",
       "      <th>title</th>\n",
       "      <th>tagline</th>\n",
       "      <th>developer</th>\n",
       "      <th>rating</th>\n",
       "      <th>reviews_count</th>\n",
       "      <th>pricing_hint</th>\n",
       "    </tr>\n",
       "  </thead>\n",
       "  <tbody>\n",
       "    <tr>\n",
       "      <th>0</th>\n",
       "      <td>1</td>\n",
       "      <td>Hit Counter</td>\n",
       "      <td>Boost sales using social proof with a simple h...</td>\n",
       "      <td>POWr.io</td>\n",
       "      <td>4.4</td>\n",
       "      <td>39</td>\n",
       "      <td>NaN</td>\n",
       "    </tr>\n",
       "    <tr>\n",
       "      <th>1</th>\n",
       "      <td>2</td>\n",
       "      <td>Categories Uncomplicated</td>\n",
       "      <td>Categories for Shopify, done the right way</td>\n",
       "      <td>Lightenna Ltd</td>\n",
       "      <td>5.0</td>\n",
       "      <td>34</td>\n",
       "      <td>10-day free trial</td>\n",
       "    </tr>\n",
       "    <tr>\n",
       "      <th>2</th>\n",
       "      <td>3</td>\n",
       "      <td>Ads by Varinode</td>\n",
       "      <td>Free Ad exchange to help you acquire high qual...</td>\n",
       "      <td>Varinode, Inc.</td>\n",
       "      <td>4.9</td>\n",
       "      <td>3336</td>\n",
       "      <td>NaN</td>\n",
       "    </tr>\n",
       "    <tr>\n",
       "      <th>3</th>\n",
       "      <td>4</td>\n",
       "      <td>All in One Metafields</td>\n",
       "      <td>Create And Handle Everything Related To Custom...</td>\n",
       "      <td>Identix Web</td>\n",
       "      <td>4.9</td>\n",
       "      <td>11</td>\n",
       "      <td>7-day free trial</td>\n",
       "    </tr>\n",
       "    <tr>\n",
       "      <th>4</th>\n",
       "      <td>5</td>\n",
       "      <td>Product Options and Customizer</td>\n",
       "      <td>Create extra and unlimited product options (pr...</td>\n",
       "      <td>SolverCircle</td>\n",
       "      <td>4.3</td>\n",
       "      <td>70</td>\n",
       "      <td>10-day free trial</td>\n",
       "    </tr>\n",
       "  </tbody>\n",
       "</table>\n",
       "</div>"
      ],
      "text/plain": [
       "   id                           title  \\\n",
       "0   1                     Hit Counter   \n",
       "1   2        Categories Uncomplicated   \n",
       "2   3                 Ads by Varinode   \n",
       "3   4           All in One Metafields   \n",
       "4   5  Product Options and Customizer   \n",
       "\n",
       "                                             tagline       developer  rating  \\\n",
       "0  Boost sales using social proof with a simple h...         POWr.io     4.4   \n",
       "1         Categories for Shopify, done the right way   Lightenna Ltd     5.0   \n",
       "2  Free Ad exchange to help you acquire high qual...  Varinode, Inc.     4.9   \n",
       "3  Create And Handle Everything Related To Custom...     Identix Web     4.9   \n",
       "4  Create extra and unlimited product options (pr...    SolverCircle     4.3   \n",
       "\n",
       "   reviews_count       pricing_hint  \n",
       "0             39                NaN  \n",
       "1             34  10-day free trial  \n",
       "2           3336                NaN  \n",
       "3             11   7-day free trial  \n",
       "4             70  10-day free trial  "
      ]
     },
     "execution_count": 3,
     "metadata": {},
     "output_type": "execute_result"
    }
   ],
   "source": [
    "apps.head()"
   ]
  },
  {
   "cell_type": "code",
   "execution_count": 4,
   "metadata": {},
   "outputs": [
    {
     "name": "stdout",
     "output_type": "stream",
     "text": [
      "<class 'pandas.core.frame.DataFrame'>\n",
      "RangeIndex: 2831 entries, 0 to 2830\n",
      "Data columns (total 7 columns):\n",
      "id               2831 non-null int64\n",
      "title            2831 non-null object\n",
      "tagline          2831 non-null object\n",
      "developer        2831 non-null object\n",
      "rating           2831 non-null float64\n",
      "reviews_count    2831 non-null int64\n",
      "pricing_hint     1768 non-null object\n",
      "dtypes: float64(1), int64(2), object(4)\n",
      "memory usage: 154.9+ KB\n"
     ]
    }
   ],
   "source": [
    "apps.info()"
   ]
  },
  {
   "cell_type": "markdown",
   "metadata": {},
   "source": [
    "## EDA"
   ]
  },
  {
   "cell_type": "markdown",
   "metadata": {},
   "source": [
    "### Total number of apps"
   ]
  },
  {
   "cell_type": "code",
   "execution_count": 5,
   "metadata": {},
   "outputs": [
    {
     "name": "stdout",
     "output_type": "stream",
     "text": [
      "Total number of apps:  2831\n"
     ]
    }
   ],
   "source": [
    "print('Total number of apps: ', apps.id.nunique())"
   ]
  },
  {
   "cell_type": "markdown",
   "metadata": {},
   "source": [
    "### Most Popular Apps (by reviews count)"
   ]
  },
  {
   "cell_type": "code",
   "execution_count": 6,
   "metadata": {},
   "outputs": [
    {
     "data": {
      "image/png": "[encoded data removed]",
      "text/plain": [
       "<Figure size 720x432 with 1 Axes>"
      ]
     },
     "metadata": {
      "needs_background": "light"
     },
     "output_type": "display_data"
    }
   ],
   "source": [
    "df = apps.sort_values('reviews_count', ascending = False).reset_index()\n",
    "    \n",
    "df['importance_normalized'] = df['reviews_count'] / df['reviews_count'].sum()\n",
    "\n",
    "plt.figure(figsize = (10, 6))\n",
    "ax = plt.subplot()\n",
    "    \n",
    "ax.barh(list(reversed(list(df.index[:15]))), \n",
    "            df['importance_normalized'].head(15), \n",
    "            align = 'center', edgecolor = 'k')\n",
    "    \n",
    "ax.set_yticks(list(reversed(list(df.index[:15]))))\n",
    "ax.set_yticklabels(df['title'].head(15) + ' - ' + df['rating'].head(15).map(str))\n",
    "    \n",
    "plt.xlabel('Normalized Popularity'); plt.title('Popular apps with rating')\n",
    "plt.show()"
   ]
  },
  {
   "cell_type": "markdown",
   "metadata": {},
   "source": [
    "#### Unique developers"
   ]
  },
  {
   "cell_type": "code",
   "execution_count": 7,
   "metadata": {},
   "outputs": [
    {
     "name": "stdout",
     "output_type": "stream",
     "text": [
      "Unique developers number:  1552\n"
     ]
    }
   ],
   "source": [
    "print('Unique developers number: ', apps.developer.nunique())"
   ]
  },
  {
   "cell_type": "markdown",
   "metadata": {},
   "source": [
    "#### Number of apps per developer"
   ]
  },
  {
   "cell_type": "code",
   "execution_count": 8,
   "metadata": {},
   "outputs": [],
   "source": [
    "apps_developers = pd.DataFrame(apps.groupby('developer').id.count().sort_values(ascending=False).reset_index())\n",
    "\n",
    "average_rating = pd.DataFrame(apps.groupby(['developer']).rating.mean()).reset_index()\n",
    "\n",
    "average_rating = pd.merge(apps_developers, average_rating, on='developer')"
   ]
  },
  {
   "cell_type": "code",
   "execution_count": 9,
   "metadata": {},
   "outputs": [
    {
     "data": {
      "image/png": "[encoded data removed]",
      "text/plain": [
       "<Figure size 864x720 with 1 Axes>"
      ]
     },
     "metadata": {
      "needs_background": "light"
     },
     "output_type": "display_data"
    }
   ],
   "source": [
    "plt.figure(figsize = (12, 10))\n",
    "ax = plt.subplot()\n",
    "    \n",
    "ax.barh(list(reversed(list(average_rating.index[:20]))), \n",
    "            average_rating.id.head(20), \n",
    "            align = 'center', edgecolor = 'k')\n",
    "    \n",
    "ax.set_yticks(list(reversed(list(average_rating.index[:20]))))\n",
    "ax.set_yticklabels(average_rating.developer.head(20) + ' - ' + (average_rating.rating.head(20)).round(2).map(str))\n",
    "    \n",
    "plt.xlabel('Number of Apps'); plt.title('App Developers with Average App Rating')\n",
    "plt.show()"
   ]
  },
  {
   "cell_type": "markdown",
   "metadata": {},
   "source": [
    "### Apps with High Demand and Low Rating"
   ]
  },
  {
   "cell_type": "markdown",
   "metadata": {},
   "source": [
    "The worst apps were made by Shopify!!!"
   ]
  },
  {
   "cell_type": "code",
   "execution_count": 10,
   "metadata": {},
   "outputs": [
    {
     "data": {
      "text/html": [
       "<div>\n",
       "<style scoped>\n",
       "    .dataframe tbody tr th:only-of-type {\n",
       "        vertical-align: middle;\n",
       "    }\n",
       "\n",
       "    .dataframe tbody tr th {\n",
       "        vertical-align: top;\n",
       "    }\n",
       "\n",
       "    .dataframe thead th {\n",
       "        text-align: right;\n",
       "    }\n",
       "</style>\n",
       "<table border=\"1\" class=\"dataframe\">\n",
       "  <thead>\n",
       "    <tr style=\"text-align: right;\">\n",
       "      <th></th>\n",
       "      <th>title</th>\n",
       "      <th>tagline</th>\n",
       "      <th>developer</th>\n",
       "      <th>rating</th>\n",
       "      <th>reviews_count</th>\n",
       "    </tr>\n",
       "  </thead>\n",
       "  <tbody>\n",
       "    <tr>\n",
       "      <th>760</th>\n",
       "      <td>Instagram channel</td>\n",
       "      <td>Sell on Instagram by tagging products in your ...</td>\n",
       "      <td>Shopify</td>\n",
       "      <td>1.7</td>\n",
       "      <td>379</td>\n",
       "    </tr>\n",
       "    <tr>\n",
       "      <th>765</th>\n",
       "      <td>Amazon channel</td>\n",
       "      <td>Sell on Amazon by listing your products and ma...</td>\n",
       "      <td>Shopify</td>\n",
       "      <td>1.8</td>\n",
       "      <td>123</td>\n",
       "    </tr>\n",
       "    <tr>\n",
       "      <th>1387</th>\n",
       "      <td>Google Shopping</td>\n",
       "      <td>Show products to interested customers across G...</td>\n",
       "      <td>Shopify</td>\n",
       "      <td>1.8</td>\n",
       "      <td>440</td>\n",
       "    </tr>\n",
       "    <tr>\n",
       "      <th>2272</th>\n",
       "      <td>Retail Barcode Labels</td>\n",
       "      <td>Create and print barcode labels for your products</td>\n",
       "      <td>Shopify</td>\n",
       "      <td>1.8</td>\n",
       "      <td>191</td>\n",
       "    </tr>\n",
       "    <tr>\n",
       "      <th>1105</th>\n",
       "      <td>BuzzFeed</td>\n",
       "      <td>Leverage BuzzFeed’s engaged audience to sell more</td>\n",
       "      <td>Buzzfeed Product Labs</td>\n",
       "      <td>2.3</td>\n",
       "      <td>41</td>\n",
       "    </tr>\n",
       "    <tr>\n",
       "      <th>2041</th>\n",
       "      <td>Facebook Marketing</td>\n",
       "      <td>Promote products to the right audience on Face...</td>\n",
       "      <td>Shopify</td>\n",
       "      <td>2.4</td>\n",
       "      <td>48</td>\n",
       "    </tr>\n",
       "    <tr>\n",
       "      <th>1720</th>\n",
       "      <td>Shipwire Order Management</td>\n",
       "      <td>The worlds most powerful cloud fulfillment pla...</td>\n",
       "      <td>Shipwire</td>\n",
       "      <td>2.5</td>\n",
       "      <td>50</td>\n",
       "    </tr>\n",
       "    <tr>\n",
       "      <th>1535</th>\n",
       "      <td>Xero® Integration by Bold</td>\n",
       "      <td>Export orders from Shopify into your Xero acco...</td>\n",
       "      <td>BOLD</td>\n",
       "      <td>2.6</td>\n",
       "      <td>140</td>\n",
       "    </tr>\n",
       "    <tr>\n",
       "      <th>807</th>\n",
       "      <td>Facebook channel</td>\n",
       "      <td>Sell on Facebook from the Shop section of your...</td>\n",
       "      <td>Shopify</td>\n",
       "      <td>2.8</td>\n",
       "      <td>429</td>\n",
       "    </tr>\n",
       "    <tr>\n",
       "      <th>1284</th>\n",
       "      <td>Wanelo</td>\n",
       "      <td>List and sell your products to millions of act...</td>\n",
       "      <td>Wanelo</td>\n",
       "      <td>2.9</td>\n",
       "      <td>183</td>\n",
       "    </tr>\n",
       "    <tr>\n",
       "      <th>1166</th>\n",
       "      <td>Quickbooks® Sync by Bold</td>\n",
       "      <td>Automatically sync your orders with Quickbooks...</td>\n",
       "      <td>BOLD</td>\n",
       "      <td>3.0</td>\n",
       "      <td>153</td>\n",
       "    </tr>\n",
       "    <tr>\n",
       "      <th>1364</th>\n",
       "      <td>SynCommerce</td>\n",
       "      <td>Multichannel inventory and order management</td>\n",
       "      <td>Mavericks Technologies Ltd</td>\n",
       "      <td>3.0</td>\n",
       "      <td>81</td>\n",
       "    </tr>\n",
       "    <tr>\n",
       "      <th>1383</th>\n",
       "      <td>Point of Sale</td>\n",
       "      <td>Sell anywhere. Accept any payment. Grow your b...</td>\n",
       "      <td>Shopify</td>\n",
       "      <td>3.0</td>\n",
       "      <td>82</td>\n",
       "    </tr>\n",
       "  </tbody>\n",
       "</table>\n",
       "</div>"
      ],
      "text/plain": [
       "                          title  \\\n",
       "760           Instagram channel   \n",
       "765              Amazon channel   \n",
       "1387            Google Shopping   \n",
       "2272      Retail Barcode Labels   \n",
       "1105                   BuzzFeed   \n",
       "2041         Facebook Marketing   \n",
       "1720  Shipwire Order Management   \n",
       "1535  Xero® Integration by Bold   \n",
       "807            Facebook channel   \n",
       "1284                     Wanelo   \n",
       "1166   Quickbooks® Sync by Bold   \n",
       "1364                SynCommerce   \n",
       "1383              Point of Sale   \n",
       "\n",
       "                                                tagline  \\\n",
       "760   Sell on Instagram by tagging products in your ...   \n",
       "765   Sell on Amazon by listing your products and ma...   \n",
       "1387  Show products to interested customers across G...   \n",
       "2272  Create and print barcode labels for your products   \n",
       "1105  Leverage BuzzFeed’s engaged audience to sell more   \n",
       "2041  Promote products to the right audience on Face...   \n",
       "1720  The worlds most powerful cloud fulfillment pla...   \n",
       "1535  Export orders from Shopify into your Xero acco...   \n",
       "807   Sell on Facebook from the Shop section of your...   \n",
       "1284  List and sell your products to millions of act...   \n",
       "1166  Automatically sync your orders with Quickbooks...   \n",
       "1364        Multichannel inventory and order management   \n",
       "1383  Sell anywhere. Accept any payment. Grow your b...   \n",
       "\n",
       "                       developer  rating  reviews_count  \n",
       "760                      Shopify     1.7            379  \n",
       "765                      Shopify     1.8            123  \n",
       "1387                     Shopify     1.8            440  \n",
       "2272                     Shopify     1.8            191  \n",
       "1105       Buzzfeed Product Labs     2.3             41  \n",
       "2041                     Shopify     2.4             48  \n",
       "1720                    Shipwire     2.5             50  \n",
       "1535                        BOLD     2.6            140  \n",
       "807                      Shopify     2.8            429  \n",
       "1284                      Wanelo     2.9            183  \n",
       "1166                        BOLD     3.0            153  \n",
       "1364  Mavericks Technologies Ltd     3.0             81  \n",
       "1383                     Shopify     3.0             82  "
      ]
     },
     "execution_count": 10,
     "metadata": {},
     "output_type": "execute_result"
    }
   ],
   "source": [
    "apps[(apps.reviews_count>40) & (apps.rating<=3)][['title', 'tagline', 'developer', 'rating', 'reviews_count']].sort_values(by='rating')"
   ]
  },
  {
   "cell_type": "markdown",
   "metadata": {},
   "source": [
    "## Apps Categories"
   ]
  },
  {
   "cell_type": "code",
   "execution_count": 11,
   "metadata": {},
   "outputs": [],
   "source": [
    "apps_cats_id = pd.read_csv('/Users/alex/Documents/shopify-app-store/apps_categories.csv')\n",
    "apps_cats = pd.read_csv('/Users/alex/Documents/shopify-app-store/categories.csv')\n",
    "\n",
    "apps_cats.columns = ['category_id', 'category']\n",
    "\n",
    "apps_cats_id = pd.merge(apps_cats_id, apps_cats, on='category_id').sort_values(by='app_id').reset_index().drop('index', axis=1)\n",
    "\n",
    "cat_distribution = pd.DataFrame(apps_cats_id.category.value_counts()).reset_index()\n",
    "\n",
    "cat_distribution.columns = ['category', 'category_count']"
   ]
  },
  {
   "cell_type": "code",
   "execution_count": 12,
   "metadata": {},
   "outputs": [
    {
     "data": {
      "image/png": "[encoded data removed]",
      "text/plain": [
       "<Figure size 640x480 with 1 Axes>"
      ]
     },
     "metadata": {},
     "output_type": "display_data"
    }
   ],
   "source": [
    "plt.rcdefaults()\n",
    "fig, ax = plt.subplots()\n",
    "\n",
    "# Example data\n",
    "#people = ('Tom', 'Dick', 'Harry', 'Slim', 'Jim')\n",
    "y_pos = np.arange(len(cat_distribution))\n",
    "performance = cat_distribution.category_count\n",
    "\n",
    "\n",
    "ax.barh(y_pos, performance, align='center')\n",
    "ax.set_yticks(y_pos)\n",
    "ax.set_yticklabels(cat_distribution.category)\n",
    "ax.invert_yaxis()  \n",
    "ax.set_xlabel('Number of Apps')\n",
    "ax.set_title('App Categories distribution')\n",
    "\n",
    "plt.show()"
   ]
  },
  {
   "cell_type": "markdown",
   "metadata": {},
   "source": [
    "### Reviews"
   ]
  },
  {
   "cell_type": "code",
   "execution_count": 13,
   "metadata": {},
   "outputs": [
    {
     "data": {
      "text/plain": [
       "(292029, 8)"
      ]
     },
     "execution_count": 13,
     "metadata": {},
     "output_type": "execute_result"
    }
   ],
   "source": [
    "reviews = pd.read_csv('/Users/alex/Documents/shopify-app-store/reviews.csv')\n",
    "reviews.shape"
   ]
  },
  {
   "cell_type": "markdown",
   "metadata": {},
   "source": [
    "#### Bad Reviews"
   ]
  },
  {
   "cell_type": "code",
   "execution_count": 14,
   "metadata": {},
   "outputs": [
    {
     "name": "stdout",
     "output_type": "stream",
     "text": [
      "Number of apps with bad reviews:  1547\n",
      "Number of apps with good reviews  2292\n"
     ]
    }
   ],
   "source": [
    "print('Number of apps with bad reviews: ', reviews[reviews.rating<=3].app_id.nunique())\n",
    "print('Number of apps with good reviews ', reviews[reviews.rating>3].app_id.nunique())"
   ]
  },
  {
   "cell_type": "code",
   "execution_count": 15,
   "metadata": {},
   "outputs": [],
   "source": [
    "good_reviews = pd.DataFrame(reviews[reviews.rating>3].groupby('app_id').size()).reset_index()#.value_counts(ascending=False)\n",
    "good_reviews.columns = ['id', 'good_review']\n",
    "\n",
    "bad_reviews = pd.DataFrame(reviews[reviews.rating<=3].groupby('app_id').size()).reset_index()#.value_counts(ascending=False)\n",
    "bad_reviews.columns = ['id', 'bad_review']"
   ]
  },
  {
   "cell_type": "code",
   "execution_count": 16,
   "metadata": {},
   "outputs": [
    {
     "name": "stdout",
     "output_type": "stream",
     "text": [
      "Reviews with rating more than 3:  272271\n",
      "Reviews with rating 3 and less:  19758\n"
     ]
    }
   ],
   "source": [
    "print('Reviews with rating more than 3: ', good_reviews.good_review.sum())\n",
    "print('Reviews with rating 3 and less: ', bad_reviews.bad_review.sum())"
   ]
  },
  {
   "cell_type": "markdown",
   "metadata": {},
   "source": [
    "#### Share of Bad Reviews"
   ]
  },
  {
   "cell_type": "code",
   "execution_count": 17,
   "metadata": {},
   "outputs": [],
   "source": [
    "apps = pd.merge(apps, good_reviews, on='id', how='left')\n",
    "apps = pd.merge(apps, bad_reviews, on='id', how='left')\n",
    "\n",
    "apps.bad_review.fillna(0, inplace=True)\n",
    "\n",
    "apps['share_of_badreviews'] = ((apps.bad_review/apps.reviews_count)*100).round(0)"
   ]
  },
  {
   "cell_type": "code",
   "execution_count": 18,
   "metadata": {},
   "outputs": [
    {
     "data": {
      "text/html": [
       "<div>\n",
       "<style scoped>\n",
       "    .dataframe tbody tr th:only-of-type {\n",
       "        vertical-align: middle;\n",
       "    }\n",
       "\n",
       "    .dataframe tbody tr th {\n",
       "        vertical-align: top;\n",
       "    }\n",
       "\n",
       "    .dataframe thead th {\n",
       "        text-align: right;\n",
       "    }\n",
       "</style>\n",
       "<table border=\"1\" class=\"dataframe\">\n",
       "  <thead>\n",
       "    <tr style=\"text-align: right;\">\n",
       "      <th></th>\n",
       "      <th>id</th>\n",
       "      <th>title</th>\n",
       "      <th>tagline</th>\n",
       "      <th>developer</th>\n",
       "      <th>rating</th>\n",
       "      <th>reviews_count</th>\n",
       "      <th>pricing_hint</th>\n",
       "      <th>good_review</th>\n",
       "      <th>bad_review</th>\n",
       "      <th>share_of_badreviews</th>\n",
       "    </tr>\n",
       "  </thead>\n",
       "  <tbody>\n",
       "    <tr>\n",
       "      <th>760</th>\n",
       "      <td>761</td>\n",
       "      <td>Instagram channel</td>\n",
       "      <td>Sell on Instagram by tagging products in your ...</td>\n",
       "      <td>Shopify</td>\n",
       "      <td>1.7</td>\n",
       "      <td>379</td>\n",
       "      <td>NaN</td>\n",
       "      <td>58.0</td>\n",
       "      <td>321.0</td>\n",
       "      <td>85.0</td>\n",
       "    </tr>\n",
       "    <tr>\n",
       "      <th>765</th>\n",
       "      <td>766</td>\n",
       "      <td>Amazon channel</td>\n",
       "      <td>Sell on Amazon by listing your products and ma...</td>\n",
       "      <td>Shopify</td>\n",
       "      <td>1.8</td>\n",
       "      <td>123</td>\n",
       "      <td>NaN</td>\n",
       "      <td>20.0</td>\n",
       "      <td>103.0</td>\n",
       "      <td>84.0</td>\n",
       "    </tr>\n",
       "    <tr>\n",
       "      <th>807</th>\n",
       "      <td>808</td>\n",
       "      <td>Facebook channel</td>\n",
       "      <td>Sell on Facebook from the Shop section of your...</td>\n",
       "      <td>Shopify</td>\n",
       "      <td>2.8</td>\n",
       "      <td>429</td>\n",
       "      <td>NaN</td>\n",
       "      <td>188.0</td>\n",
       "      <td>241.0</td>\n",
       "      <td>56.0</td>\n",
       "    </tr>\n",
       "    <tr>\n",
       "      <th>1166</th>\n",
       "      <td>1167</td>\n",
       "      <td>Quickbooks® Sync by Bold</td>\n",
       "      <td>Automatically sync your orders with Quickbooks...</td>\n",
       "      <td>BOLD</td>\n",
       "      <td>3.0</td>\n",
       "      <td>153</td>\n",
       "      <td>NaN</td>\n",
       "      <td>76.0</td>\n",
       "      <td>77.0</td>\n",
       "      <td>50.0</td>\n",
       "    </tr>\n",
       "    <tr>\n",
       "      <th>1284</th>\n",
       "      <td>1285</td>\n",
       "      <td>Wanelo</td>\n",
       "      <td>List and sell your products to millions of act...</td>\n",
       "      <td>Wanelo</td>\n",
       "      <td>2.9</td>\n",
       "      <td>183</td>\n",
       "      <td>NaN</td>\n",
       "      <td>87.0</td>\n",
       "      <td>96.0</td>\n",
       "      <td>52.0</td>\n",
       "    </tr>\n",
       "    <tr>\n",
       "      <th>1387</th>\n",
       "      <td>1388</td>\n",
       "      <td>Google Shopping</td>\n",
       "      <td>Show products to interested customers across G...</td>\n",
       "      <td>Shopify</td>\n",
       "      <td>1.8</td>\n",
       "      <td>440</td>\n",
       "      <td>NaN</td>\n",
       "      <td>79.0</td>\n",
       "      <td>361.0</td>\n",
       "      <td>82.0</td>\n",
       "    </tr>\n",
       "    <tr>\n",
       "      <th>1535</th>\n",
       "      <td>1536</td>\n",
       "      <td>Xero® Integration by Bold</td>\n",
       "      <td>Export orders from Shopify into your Xero acco...</td>\n",
       "      <td>BOLD</td>\n",
       "      <td>2.6</td>\n",
       "      <td>140</td>\n",
       "      <td>NaN</td>\n",
       "      <td>54.0</td>\n",
       "      <td>86.0</td>\n",
       "      <td>61.0</td>\n",
       "    </tr>\n",
       "    <tr>\n",
       "      <th>2272</th>\n",
       "      <td>2273</td>\n",
       "      <td>Retail Barcode Labels</td>\n",
       "      <td>Create and print barcode labels for your products</td>\n",
       "      <td>Shopify</td>\n",
       "      <td>1.8</td>\n",
       "      <td>191</td>\n",
       "      <td>NaN</td>\n",
       "      <td>33.0</td>\n",
       "      <td>158.0</td>\n",
       "      <td>83.0</td>\n",
       "    </tr>\n",
       "  </tbody>\n",
       "</table>\n",
       "</div>"
      ],
      "text/plain": [
       "        id                      title  \\\n",
       "760    761          Instagram channel   \n",
       "765    766             Amazon channel   \n",
       "807    808           Facebook channel   \n",
       "1166  1167   Quickbooks® Sync by Bold   \n",
       "1284  1285                     Wanelo   \n",
       "1387  1388            Google Shopping   \n",
       "1535  1536  Xero® Integration by Bold   \n",
       "2272  2273      Retail Barcode Labels   \n",
       "\n",
       "                                                tagline developer  rating  \\\n",
       "760   Sell on Instagram by tagging products in your ...   Shopify     1.7   \n",
       "765   Sell on Amazon by listing your products and ma...   Shopify     1.8   \n",
       "807   Sell on Facebook from the Shop section of your...   Shopify     2.8   \n",
       "1166  Automatically sync your orders with Quickbooks...      BOLD     3.0   \n",
       "1284  List and sell your products to millions of act...    Wanelo     2.9   \n",
       "1387  Show products to interested customers across G...   Shopify     1.8   \n",
       "1535  Export orders from Shopify into your Xero acco...      BOLD     2.6   \n",
       "2272  Create and print barcode labels for your products   Shopify     1.8   \n",
       "\n",
       "      reviews_count pricing_hint  good_review  bad_review  share_of_badreviews  \n",
       "760             379          NaN         58.0       321.0                 85.0  \n",
       "765             123          NaN         20.0       103.0                 84.0  \n",
       "807             429          NaN        188.0       241.0                 56.0  \n",
       "1166            153          NaN         76.0        77.0                 50.0  \n",
       "1284            183          NaN         87.0        96.0                 52.0  \n",
       "1387            440          NaN         79.0       361.0                 82.0  \n",
       "1535            140          NaN         54.0        86.0                 61.0  \n",
       "2272            191          NaN         33.0       158.0                 83.0  "
      ]
     },
     "execution_count": 18,
     "metadata": {},
     "output_type": "execute_result"
    }
   ],
   "source": [
    "# apps with share of bad reviews more than 50% and review count more than 100\n",
    "apps[(apps['share_of_badreviews']>=50) & (apps['reviews_count']>=100)]"
   ]
  },
  {
   "cell_type": "markdown",
   "metadata": {},
   "source": [
    "#### Unsatisfied reveiws authors"
   ]
  },
  {
   "cell_type": "code",
   "execution_count": 19,
   "metadata": {},
   "outputs": [
    {
     "name": "stdout",
     "output_type": "stream",
     "text": [
      "Unique unsatisfied review authors:  16968\n"
     ]
    }
   ],
   "source": [
    "print('Unique unsatisfied review authors: ', reviews[reviews.rating <=3].author.nunique())"
   ]
  }
 ],
 "metadata": {
  "kernelspec": {
   "display_name": "Python 3",
   "language": "python",
   "name": "python3"
  },
  "language_info": {
   "codemirror_mode": {
    "name": "ipython",
    "version": 3
   },
   "file_extension": ".py",
   "mimetype": "text/x-python",
   "name": "python",
   "nbconvert_exporter": "python",
   "pygments_lexer": "ipython3",
   "version": "3.7.3"
  },
  "toc": {
   "base_numbering": 1,
   "nav_menu": {},
   "number_sections": true,
   "sideBar": true,
   "skip_h1_title": false,
   "title_cell": "Table of Contents",
   "title_sidebar": "Contents",
   "toc_cell": false,
   "toc_position": {
    "height": "calc(100% - 180px)",
    "left": "10px",
    "top": "150px",
    "width": "253px"
   },
   "toc_section_display": true,
   "toc_window_display": true
  }
 },
 "nbformat": 4,
 "nbformat_minor": 2
}
